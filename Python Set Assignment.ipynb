{
 "cells": [
  {
   "cell_type": "markdown",
   "id": "7ddebfdb",
   "metadata": {},
   "source": [
    "### SET ASSIGNMENT\n",
    "#### Antony Mithika\n",
    "- Test Exercise"
   ]
  },
  {
   "cell_type": "code",
   "execution_count": 5,
   "id": "624422cf",
   "metadata": {},
   "outputs": [],
   "source": [
    "#Create the requested sets\n",
    "\n",
    "u={1,2,3,4,5,6,7,8,9,10,11,12}\n",
    "e={2,4,6,8,10}\n",
    "p={3,8,11,12}\n",
    "q={2,3,6,8,9,11}\n"
   ]
  },
  {
   "cell_type": "code",
   "execution_count": 6,
   "id": "9db97ebd",
   "metadata": {},
   "outputs": [
    {
     "data": {
      "text/plain": [
       "{8}"
      ]
     },
     "execution_count": 6,
     "metadata": {},
     "output_type": "execute_result"
    }
   ],
   "source": [
    "# 1. Calculate the intersect between p and e\n",
    "\n",
    "p & e"
   ]
  },
  {
   "cell_type": "code",
   "execution_count": 7,
   "id": "3477eb8a",
   "metadata": {},
   "outputs": [
    {
     "data": {
      "text/plain": [
       "{2, 3, 4, 6, 8, 10, 11, 12}"
      ]
     },
     "execution_count": 7,
     "metadata": {},
     "output_type": "execute_result"
    }
   ],
   "source": [
    "# 2. Calculate the union between p and e\n",
    "\n",
    "p|e"
   ]
  },
  {
   "cell_type": "code",
   "execution_count": null,
   "id": "21c16832",
   "metadata": {},
   "outputs": [
    {
     "name": "stdout",
     "output_type": "stream",
     "text": [
      "{1, 3, 5, 7, 9, 11, 12}\n"
     ]
    }
   ],
   "source": [
    "# 3. Calculate the Absolute Compliment of e\n",
    "compliment_e=(u-e)\n",
    "print(compliment_e)\n"
   ]
  },
  {
   "cell_type": "code",
   "execution_count": null,
   "id": "05fd516b",
   "metadata": {},
   "outputs": [
    {
     "name": "stdout",
     "output_type": "stream",
     "text": [
      "{1, 2, 4, 5, 6, 7, 9, 10}\n"
     ]
    }
   ],
   "source": [
    "# 4. Calculate the Absolute Compliment of p\n",
    "compliment_p=(u-p)\n",
    "print(compliment_p)"
   ]
  },
  {
   "cell_type": "code",
   "execution_count": null,
   "id": "e0318b03",
   "metadata": {},
   "outputs": [
    {
     "name": "stdout",
     "output_type": "stream",
     "text": [
      "{1, 5, 9, 7}\n"
     ]
    }
   ],
   "source": [
    "# 5. Calculate the union of e and p and get the compliment\n",
    "union=(e|p)\n",
    "comp_ep=(u-union)\n",
    "print(comp_ep)"
   ]
  },
  {
   "cell_type": "code",
   "execution_count": null,
   "id": "485d7228",
   "metadata": {},
   "outputs": [
    {
     "data": {
      "text/plain": [
       "{2, 4, 6, 10}"
      ]
     },
     "execution_count": 13,
     "metadata": {},
     "output_type": "execute_result"
    }
   ],
   "source": [
    "# 6. Calculate the intersect of e and the compliment of p\n",
    "e & compliment_p"
   ]
  },
  {
   "cell_type": "code",
   "execution_count": 12,
   "id": "7390963a",
   "metadata": {},
   "outputs": [
    {
     "data": {
      "text/plain": [
       "{2, 4, 6, 10}"
      ]
     },
     "execution_count": 12,
     "metadata": {},
     "output_type": "execute_result"
    }
   ],
   "source": [
    "# 7. Calculate the Relative Compliment of e\n",
    "e-p"
   ]
  },
  {
   "cell_type": "code",
   "execution_count": 15,
   "id": "3635eada",
   "metadata": {},
   "outputs": [
    {
     "name": "stdout",
     "output_type": "stream",
     "text": [
      "{8, 9, 2, 6}\n"
     ]
    }
   ],
   "source": [
    "# 8. Calculate the relative compliment of p\\e then q\n",
    "RelComp=(p-e)\n",
    "RelCompq=(q-RelComp)\n",
    "print(RelCompq)"
   ]
  },
  {
   "cell_type": "code",
   "execution_count": 18,
   "id": "bfe2799d",
   "metadata": {},
   "outputs": [
    {
     "name": "stdout",
     "output_type": "stream",
     "text": [
      "{2, 6, 8, 9}\n"
     ]
    }
   ],
   "source": [
    "# 9. Calculate the Union between the Intersect of q and e and the relative comp of q\\p\n",
    "Inter=(q&e)\n",
    "Relcomp=(q-p)\n",
    "Unin=(Inter|Relcomp)\n",
    "print(Unin)"
   ]
  },
  {
   "cell_type": "markdown",
   "id": "e14007ab",
   "metadata": {},
   "source": [
    "- 1st Exercise"
   ]
  },
  {
   "cell_type": "code",
   "execution_count": 2,
   "id": "7178dd25",
   "metadata": {},
   "outputs": [],
   "source": [
    "# Create Requsted sets\n",
    "A={2, 4, 6, 8, 10}\n",
    "B={8, 11, 3, 12}\n",
    "C={2, 3, 6, 8, 9, 11}\n",
    "U={1, 2, 3, 4, 5, 6, 7, 8, 9, 10, 11, 12}\n"
   ]
  },
  {
   "cell_type": "code",
   "execution_count": 3,
   "id": "2ed977d3",
   "metadata": {},
   "outputs": [
    {
     "data": {
      "text/plain": [
       "{8}"
      ]
     },
     "execution_count": 3,
     "metadata": {},
     "output_type": "execute_result"
    }
   ],
   "source": [
    "# 1. Calculate the intersect between A and B\n",
    "\n",
    "A & B"
   ]
  },
  {
   "cell_type": "code",
   "execution_count": 4,
   "id": "1abdbb43",
   "metadata": {},
   "outputs": [
    {
     "data": {
      "text/plain": [
       "{2, 3, 4, 6, 8, 10, 11, 12}"
      ]
     },
     "execution_count": 4,
     "metadata": {},
     "output_type": "execute_result"
    }
   ],
   "source": [
    "# 2. Calculate the union between A and B\n",
    "\n",
    "A|B"
   ]
  },
  {
   "cell_type": "code",
   "execution_count": 8,
   "id": "0b67a68d",
   "metadata": {},
   "outputs": [
    {
     "name": "stdout",
     "output_type": "stream",
     "text": [
      "{1, 3, 5, 7, 9, 11, 12}\n"
     ]
    }
   ],
   "source": [
    "# 3. Calculate the Compliment of A\n",
    "compliment_A=(U-A)\n",
    "print(compliment_A)"
   ]
  },
  {
   "cell_type": "code",
   "execution_count": 9,
   "id": "15609f0b",
   "metadata": {},
   "outputs": [
    {
     "name": "stdout",
     "output_type": "stream",
     "text": [
      "{1, 2, 4, 5, 6, 7, 9, 10}\n"
     ]
    }
   ],
   "source": [
    "# 4. Calculate the Compliment of B\n",
    "compliment_B=(U-B)\n",
    "print(compliment_B)"
   ]
  },
  {
   "cell_type": "code",
   "execution_count": 10,
   "id": "a2928918",
   "metadata": {},
   "outputs": [
    {
     "name": "stdout",
     "output_type": "stream",
     "text": [
      "{1, 5, 9, 7}\n"
     ]
    }
   ],
   "source": [
    "# 5. Calculate the union of A and B and get the compliment\n",
    "Union=(A|B)\n",
    "comp_AB=(U-Union)\n",
    "print(comp_AB)"
   ]
  },
  {
   "cell_type": "code",
   "execution_count": 11,
   "id": "9962c156",
   "metadata": {},
   "outputs": [
    {
     "data": {
      "text/plain": [
       "{2, 4, 6, 10}"
      ]
     },
     "execution_count": 11,
     "metadata": {},
     "output_type": "execute_result"
    }
   ],
   "source": [
    "# 6. Calculate the intersect of A and the compliment of B\n",
    "A & compliment_B"
   ]
  },
  {
   "cell_type": "code",
   "execution_count": 13,
   "id": "2bcaf5dd",
   "metadata": {},
   "outputs": [
    {
     "data": {
      "text/plain": [
       "{2, 4, 6, 10}"
      ]
     },
     "execution_count": 13,
     "metadata": {},
     "output_type": "execute_result"
    }
   ],
   "source": [
    "# 7. Calculate the Relative Compliment of A\n",
    "A-B"
   ]
  },
  {
   "cell_type": "code",
   "execution_count": 17,
   "id": "6fc38e8a",
   "metadata": {},
   "outputs": [
    {
     "name": "stdout",
     "output_type": "stream",
     "text": [
      "{8, 9, 2, 6}\n"
     ]
    }
   ],
   "source": [
    "# 8. Calculate the relative compliment of B\\A then C\n",
    "RelCompB=(B-A)\n",
    "RelCompC=(C-RelCompB)\n",
    "print(RelCompC)"
   ]
  },
  {
   "cell_type": "code",
   "execution_count": 19,
   "id": "4bf62d1a",
   "metadata": {},
   "outputs": [
    {
     "name": "stdout",
     "output_type": "stream",
     "text": [
      "{2, 6, 8, 9}\n"
     ]
    }
   ],
   "source": [
    "# 9. Calculate the Union between the Intersect of C and A and the relative comp of C\\B\n",
    "InterC=(C&A)\n",
    "RelcompC=(C-B)\n",
    "UninC=(InterC|RelcompC)\n",
    "print(UninC)"
   ]
  },
  {
   "cell_type": "markdown",
   "id": "dc706bf9",
   "metadata": {},
   "source": [
    "- 2nd exersice Inclusion Exclusion Principle"
   ]
  },
  {
   "cell_type": "code",
   "execution_count": 40,
   "id": "67be14c2",
   "metadata": {},
   "outputs": [
    {
     "name": "stdout",
     "output_type": "stream",
     "text": [
      "9\n"
     ]
    }
   ],
   "source": [
    "\n",
    "left_hand_eq=len((A|B|C))\n",
    "print(left_hand_eq)"
   ]
  },
  {
   "cell_type": "code",
   "execution_count": 41,
   "id": "6a12ef49",
   "metadata": {},
   "outputs": [
    {
     "name": "stdout",
     "output_type": "stream",
     "text": [
      "9\n"
     ]
    }
   ],
   "source": [
    "cardi=(len(A)+len(B)+len(C))\n",
    "cardi2=len((A&B))\n",
    "cardi3=len((A&C))\n",
    "cardi4=len((B&C))\n",
    "cardi5=len(((A&B&C)))\n",
    "right_hand_eq=(cardi-cardi2-cardi3-cardi4+cardi5)\n",
    "print(right_hand_eq)"
   ]
  },
  {
   "cell_type": "code",
   "execution_count": 43,
   "id": "1e43e364",
   "metadata": {},
   "outputs": [
    {
     "data": {
      "text/plain": [
       "True"
      ]
     },
     "execution_count": 43,
     "metadata": {},
     "output_type": "execute_result"
    }
   ],
   "source": [
    "left_hand_eq==right_hand_eq"
   ]
  },
  {
   "cell_type": "markdown",
   "id": "328e1eb4",
   "metadata": {},
   "source": [
    "- 3rd Exercise"
   ]
  },
  {
   "cell_type": "code",
   "execution_count": 85,
   "id": "72c91784",
   "metadata": {},
   "outputs": [],
   "source": [
    "Nina = set([\"Cat\",\"Dog\",\"Rabbit\",\"Donkey\",\"Parrot\", \"Goldfish\"])\n",
    "Mary = set([\"Dog\",\"Chinchilla\",\"Horse\", \"Chicken\"])\n",
    "Eve = set([\"Rabbit\", \"Turtle\", \"Goldfish\"])"
   ]
  },
  {
   "cell_type": "code",
   "execution_count": 86,
   "id": "ee32ca6c",
   "metadata": {},
   "outputs": [
    {
     "name": "stdout",
     "output_type": "stream",
     "text": [
      "{'Rabbit', 'Goldfish'}\n"
     ]
    }
   ],
   "source": [
    "#Sadly, Eve's turtle passed away last week. Let's update her pet list accordingly.\n",
    "tur={\"Turtle\"}\n",
    "update=(Eve.difference_update(tur))\n",
    "print(Eve)"
   ]
  },
  {
   "cell_type": "code",
   "execution_count": 87,
   "id": "02c47986",
   "metadata": {},
   "outputs": [
    {
     "name": "stdout",
     "output_type": "stream",
     "text": [
      "{'Chinchilla', 'Goldfish', 'Dog', 'Parrot', 'Chicken', 'Horse', 'Rabbit', 'Cat', 'Donkey'}\n"
     ]
    }
   ],
   "source": [
    "#Update Ninas Set\n",
    "Updated=Nina.update(Mary)\n",
    "print(Nina)"
   ]
  },
  {
   "cell_type": "code",
   "execution_count": 88,
   "id": "98036701",
   "metadata": {},
   "outputs": [
    {
     "name": "stdout",
     "output_type": "stream",
     "text": [
      "set()\n"
     ]
    }
   ],
   "source": [
    "#Mary, on the other hand, wants to clear her list altogether while away\n",
    "Clear=Mary.clear()\n",
    "print(Mary)"
   ]
  },
  {
   "cell_type": "code",
   "execution_count": 89,
   "id": "8841de5f",
   "metadata": {},
   "outputs": [
    {
     "name": "stdout",
     "output_type": "stream",
     "text": [
      "9\n"
     ]
    }
   ],
   "source": [
    "#Look at how many species Nina is taking care of right now.\n",
    "\n",
    "print(len(Nina))"
   ]
  },
  {
   "cell_type": "code",
   "execution_count": 91,
   "id": "bb47ea87",
   "metadata": {},
   "outputs": [
    {
     "name": "stdout",
     "output_type": "stream",
     "text": [
      "{'Rabbit', 'Goldfish'}\n"
     ]
    }
   ],
   "source": [
    "#How many animals intersect\n",
    "Intersec=Nina.intersection_update(Eve)\n",
    "print(Nina)"
   ]
  },
  {
   "cell_type": "markdown",
   "id": "7c56699e",
   "metadata": {},
   "source": [
    "- 4th Exercise"
   ]
  },
  {
   "cell_type": "code",
   "execution_count": 103,
   "id": "5c4dbcce",
   "metadata": {},
   "outputs": [],
   "source": [
    "import pandas as pd\n",
    "\n",
    "# Load Europe and EU\n",
    "europe = pd.read_excel('Europe_and_EU.xlsx', sheet_name = 'Europe') \n",
    "eu = pd.read_excel('Europe_and_EU.xlsx', sheet_name = 'EU')\n"
   ]
  },
  {
   "cell_type": "code",
   "execution_count": 100,
   "id": "277aba65",
   "metadata": {},
   "outputs": [
    {
     "data": {
      "text/plain": [
       "0                      Russia\n",
       "1                     Germany\n",
       "2                      Turkey\n",
       "3                      France\n",
       "4              United Kingdom\n",
       "5                       Italy\n",
       "6                       Spain\n",
       "7                     Ukraine\n",
       "8                      Poland\n",
       "9                     Romania\n",
       "10                Netherlands\n",
       "11                    Belgium\n",
       "12                     Greece\n",
       "13             Czech Republic\n",
       "14                   Portugal\n",
       "15                     Sweden\n",
       "16                    Hungary\n",
       "17                 Azerbaijan\n",
       "18                    Belarus\n",
       "19                     Serbia\n",
       "20                    Austria\n",
       "21                Switzerland\n",
       "22                   Bulgaria\n",
       "23                    Denmark\n",
       "24                    Finland\n",
       "25                   Slovakia\n",
       "26                     Norway\n",
       "27                    Ireland\n",
       "28                    Croatia\n",
       "29     Bosnia and Herzegovina\n",
       "30                    Georgia\n",
       "31                    Moldova\n",
       "32                    Armenia\n",
       "33                  Lithuania\n",
       "34                    Albania\n",
       "35                  Macedonia\n",
       "36                   Slovenia\n",
       "37                     Latvia\n",
       "38                     Kosovo\n",
       "39                    Estonia\n",
       "40                     Cyprus\n",
       "41                 Montenegro\n",
       "42                 Luxembourg\n",
       "43                      Malta\n",
       "44                    Iceland\n",
       "45                Jersey (UK)\n",
       "46           Isle of Man (UK)\n",
       "47                    Andorra\n",
       "48              Guernsey (UK)\n",
       "49    Faroe Islands (Denmark)\n",
       "50              Liechtenstein\n",
       "51                     Monaco\n",
       "52             Gibraltar (UK)\n",
       "53                 San Marino\n",
       "54    Åland Islands (Finland)\n",
       "55          Svalbard (Norway)\n",
       "56               Vatican City\n",
       "Name: Country, dtype: object"
      ]
     },
     "execution_count": 100,
     "metadata": {},
     "output_type": "execute_result"
    }
   ],
   "source": [
    "# remove whitespace\n",
    "eu[\"Country\"].str.strip()\n",
    "europe[\"Country\"].str.strip()"
   ]
  },
  {
   "cell_type": "code",
   "execution_count": 102,
   "id": "405ff322",
   "metadata": {},
   "outputs": [
    {
     "data": {
      "text/html": [
       "<div>\n",
       "<style scoped>\n",
       "    .dataframe tbody tr th:only-of-type {\n",
       "        vertical-align: middle;\n",
       "    }\n",
       "\n",
       "    .dataframe tbody tr th {\n",
       "        vertical-align: top;\n",
       "    }\n",
       "\n",
       "    .dataframe thead th {\n",
       "        text-align: right;\n",
       "    }\n",
       "</style>\n",
       "<table border=\"1\" class=\"dataframe\">\n",
       "  <thead>\n",
       "    <tr style=\"text-align: right;\">\n",
       "      <th></th>\n",
       "      <th>Rank</th>\n",
       "      <th>Country</th>\n",
       "      <th>Population</th>\n",
       "      <th>% of population</th>\n",
       "      <th>Average relative annual growth (%)</th>\n",
       "      <th>Average absolute annual growth</th>\n",
       "      <th>Estimated doubling time (Years)</th>\n",
       "      <th>Official figure (where available)</th>\n",
       "      <th>Date of last figure</th>\n",
       "      <th>Regional grouping</th>\n",
       "      <th>Source</th>\n",
       "    </tr>\n",
       "  </thead>\n",
       "  <tbody>\n",
       "    <tr>\n",
       "      <th>0</th>\n",
       "      <td>1.0</td>\n",
       "      <td>Russia</td>\n",
       "      <td>143964709</td>\n",
       "      <td>17.15</td>\n",
       "      <td>0.19</td>\n",
       "      <td>294285</td>\n",
       "      <td>368</td>\n",
       "      <td>146839993</td>\n",
       "      <td>2017-01-01 00:00:00</td>\n",
       "      <td>EAEU</td>\n",
       "      <td>[1]</td>\n",
       "    </tr>\n",
       "    <tr>\n",
       "      <th>1</th>\n",
       "      <td>2.0</td>\n",
       "      <td>Germany</td>\n",
       "      <td>82521653</td>\n",
       "      <td>9.80</td>\n",
       "      <td>1.20</td>\n",
       "      <td>600000</td>\n",
       "      <td>90</td>\n",
       "      <td>82800000</td>\n",
       "      <td>2016-12-31 00:00:00</td>\n",
       "      <td>EU</td>\n",
       "      <td>Official estimate</td>\n",
       "    </tr>\n",
       "    <tr>\n",
       "      <th>2</th>\n",
       "      <td>3.0</td>\n",
       "      <td>Turkey</td>\n",
       "      <td>80810000</td>\n",
       "      <td>9.60</td>\n",
       "      <td>1.34</td>\n",
       "      <td>1035000</td>\n",
       "      <td>52</td>\n",
       "      <td>77695904</td>\n",
       "      <td>2016-12-31 00:00:00</td>\n",
       "      <td>NaN</td>\n",
       "      <td>[2]</td>\n",
       "    </tr>\n",
       "  </tbody>\n",
       "</table>\n",
       "</div>"
      ],
      "text/plain": [
       "   Rank  Country  Population  % of population  \\\n",
       "0   1.0   Russia   143964709            17.15   \n",
       "1   2.0  Germany    82521653             9.80   \n",
       "2   3.0   Turkey    80810000             9.60   \n",
       "\n",
       "   Average relative annual growth (%)  Average absolute annual growth  \\\n",
       "0                                0.19                          294285   \n",
       "1                                1.20                          600000   \n",
       "2                                1.34                         1035000   \n",
       "\n",
       "  Estimated doubling time (Years)  Official figure (where available)  \\\n",
       "0                             368                          146839993   \n",
       "1                              90                           82800000   \n",
       "2                              52                           77695904   \n",
       "\n",
       "   Date of last figure Regional grouping             Source  \n",
       "0  2017-01-01 00:00:00             EAEU                 [1]  \n",
       "1  2016-12-31 00:00:00               EU   Official estimate  \n",
       "2  2016-12-31 00:00:00               NaN                [2]  "
      ]
     },
     "execution_count": 102,
     "metadata": {},
     "output_type": "execute_result"
    }
   ],
   "source": [
    "europe.head(3)"
   ]
  },
  {
   "cell_type": "code",
   "execution_count": 98,
   "id": "3163d073",
   "metadata": {},
   "outputs": [
    {
     "data": {
      "text/html": [
       "<div>\n",
       "<style scoped>\n",
       "    .dataframe tbody tr th:only-of-type {\n",
       "        vertical-align: middle;\n",
       "    }\n",
       "\n",
       "    .dataframe tbody tr th {\n",
       "        vertical-align: top;\n",
       "    }\n",
       "\n",
       "    .dataframe thead th {\n",
       "        text-align: right;\n",
       "    }\n",
       "</style>\n",
       "<table border=\"1\" class=\"dataframe\">\n",
       "  <thead>\n",
       "    <tr style=\"text-align: right;\">\n",
       "      <th></th>\n",
       "      <th>Rank</th>\n",
       "      <th>Country</th>\n",
       "      <th>2017 population</th>\n",
       "      <th>% of pop.</th>\n",
       "      <th>Average relative annual growth</th>\n",
       "      <th>Average absolute annual growth</th>\n",
       "      <th>Official figure</th>\n",
       "      <th>Date of last figure</th>\n",
       "      <th>Source</th>\n",
       "    </tr>\n",
       "  </thead>\n",
       "  <tbody>\n",
       "    <tr>\n",
       "      <th>0</th>\n",
       "      <td>1</td>\n",
       "      <td>Germany</td>\n",
       "      <td>82800000</td>\n",
       "      <td>16.18</td>\n",
       "      <td>0.76</td>\n",
       "      <td>628876</td>\n",
       "      <td>82576900</td>\n",
       "      <td>2017-03-31</td>\n",
       "      <td>Official estimate</td>\n",
       "    </tr>\n",
       "    <tr>\n",
       "      <th>1</th>\n",
       "      <td>2</td>\n",
       "      <td>France</td>\n",
       "      <td>67210459</td>\n",
       "      <td>13.10</td>\n",
       "      <td>0.40</td>\n",
       "      <td>265557</td>\n",
       "      <td>67174000</td>\n",
       "      <td>2018-01-01</td>\n",
       "      <td>Monthly official estimate</td>\n",
       "    </tr>\n",
       "    <tr>\n",
       "      <th>2</th>\n",
       "      <td>3</td>\n",
       "      <td>United Kingdom</td>\n",
       "      <td>65808573</td>\n",
       "      <td>12.86</td>\n",
       "      <td>0.65</td>\n",
       "      <td>428793</td>\n",
       "      <td>65648100</td>\n",
       "      <td>2017-06-30</td>\n",
       "      <td>Official estimate</td>\n",
       "    </tr>\n",
       "  </tbody>\n",
       "</table>\n",
       "</div>"
      ],
      "text/plain": [
       "   Rank         Country  2017 population  % of pop.  \\\n",
       "0     1         Germany         82800000      16.18   \n",
       "1     2          France         67210459      13.10   \n",
       "2     3  United Kingdom         65808573      12.86   \n",
       "\n",
       "   Average relative annual growth  Average absolute annual growth  \\\n",
       "0                            0.76                          628876   \n",
       "1                            0.40                          265557   \n",
       "2                            0.65                          428793   \n",
       "\n",
       "   Official figure Date of last figure                     Source  \n",
       "0         82576900          2017-03-31          Official estimate  \n",
       "1         67174000          2018-01-01  Monthly official estimate  \n",
       "2         65648100          2017-06-30          Official estimate  "
      ]
     },
     "execution_count": 98,
     "metadata": {},
     "output_type": "execute_result"
    }
   ],
   "source": [
    "eu.head(3)"
   ]
  },
  {
   "cell_type": "code",
   "execution_count": null,
   "id": "3f9d8cfc",
   "metadata": {},
   "outputs": [],
   "source": [
    "# Check to confirm that the EU countries are a subset of countries in Europe"
   ]
  }
 ],
 "metadata": {
  "kernelspec": {
   "display_name": "base",
   "language": "python",
   "name": "python3"
  },
  "language_info": {
   "codemirror_mode": {
    "name": "ipython",
    "version": 3
   },
   "file_extension": ".py",
   "mimetype": "text/x-python",
   "name": "python",
   "nbconvert_exporter": "python",
   "pygments_lexer": "ipython3",
   "version": "3.12.7"
  }
 },
 "nbformat": 4,
 "nbformat_minor": 5
}
